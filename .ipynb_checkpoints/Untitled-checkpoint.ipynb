{
 "cells": [
  {
   "cell_type": "code",
   "execution_count": 5,
   "id": "6f904412",
   "metadata": {
    "scrolled": true
   },
   "outputs": [
    {
     "name": "stdout",
     "output_type": "stream",
     "text": [
      "Requirement already satisfied: opencv-python in /Users/ziweishi/opt/anaconda3/lib/python3.9/site-packages (4.7.0.72)\n",
      "Requirement already satisfied: numpy>=1.17.0 in /Users/ziweishi/opt/anaconda3/lib/python3.9/site-packages (from opencv-python) (1.21.5)\n",
      "Note: you may need to restart the kernel to use updated packages.\n"
     ]
    }
   ],
   "source": [
    "pip install opencv-python"
   ]
  },
  {
   "cell_type": "code",
   "execution_count": 6,
   "id": "8a838fab",
   "metadata": {},
   "outputs": [],
   "source": [
    "from skimage import io\n",
    "import skimage\n",
    "import cv2\n",
    "import matplotlib.pyplot as plt\n",
    "\n",
    "%matplotlib inline\n",
    "\n",
    "# import matplotlib as mpl\n",
    "\n",
    "# mpl.use('TkAgg')  # !IMPORTANT\n",
    "# path = '/Users/shiziwei/Data/truthing_packet_patient_data/PatientData_2023-02_25_new/Training_2023-02-24/0d378ad7-2785-4a14-b6f2-4de792807e33/Raw_1_142121813107_2022-10-06_09.55.50.000.tiff'\n",
    "#        # 'SkinMask_0d378ad7-2785-4a14-b6f2-4de792807e33.png'\n",
    "# img = io.imread(path)\n",
    "# print(img.shape)\n",
    "# # print(img)\n",
    "# plt.imshow(img)\n",
    "\n",
    "# plt.show()"
   ]
  },
  {
   "cell_type": "code",
   "execution_count": null,
   "id": "bebc6d06",
   "metadata": {
    "scrolled": false
   },
   "outputs": [],
   "source": [
    "path = '/Users/ziweishi/Documents/p3_mask/'\n",
    "import os\n",
    "import numpy as np\n",
    "error = []\n",
    "index = 1\n",
    "for p in os.listdir(path):\n",
    "    if '.' not in p:\n",
    "        print(index)\n",
    "        index+=1\n",
    "        tmp = os.path.join(path, p)\n",
    "        files = os.listdir(tmp)\n",
    "        print(files)\n",
    "        truth = [os.path.join(tmp, f) for f in files if 'Truth' in f][0]\n",
    "        pseudo = [os.path.join(tmp, f) for f in files if 'Pseudo' in f][0]\n",
    "        mask = [os.path.join(tmp, f) for f in files if 'Mask' in f][0]\n",
    "        \n",
    "        try:\n",
    "            print(p)\n",
    "            fig, (ax1,ax2) = plt.subplots(1, 2, figsize=(10, 15))\n",
    "            ax1.imshow(cv2.imread(truth)[:,:,::-1])\n",
    "            ax1.axis('off')\n",
    "            \n",
    "            ax2.imshow(cv2.imread(pseudo)[:,:,::-1])\n",
    "            ax2.axis('off')\n",
    "            \n",
    "            ax3.imshow(cv2.imread(mask)[:,:,::-1])\n",
    "            ax3.axis('off')\n",
    "            \n",
    "            plt.show()\n",
    "            plt.close()\n",
    "        except:\n",
    "            print('====================error!!!!!!!!!!!!!!!!!!!!====================')\n",
    "            print(p)\n",
    "            error.append(p)\n",
    "            print('======================end======================')"
   ]
  },
  {
   "cell_type": "code",
   "execution_count": null,
   "id": "e5ab6893",
   "metadata": {},
   "outputs": [],
   "source": []
  }
 ],
 "metadata": {
  "kernelspec": {
   "display_name": "Python 3 (ipykernel)",
   "language": "python",
   "name": "python3"
  },
  "language_info": {
   "codemirror_mode": {
    "name": "ipython",
    "version": 3
   },
   "file_extension": ".py",
   "mimetype": "text/x-python",
   "name": "python",
   "nbconvert_exporter": "python",
   "pygments_lexer": "ipython3",
   "version": "3.9.13"
  }
 },
 "nbformat": 4,
 "nbformat_minor": 5
}
